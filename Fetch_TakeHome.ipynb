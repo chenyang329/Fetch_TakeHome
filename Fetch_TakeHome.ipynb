{
 "cells": [
  {
   "cell_type": "code",
   "execution_count": 2,
   "metadata": {
    "id": "VuvxSrZya60y"
   },
   "outputs": [],
   "source": [
    "import pandas as pd\n",
    "import numpy as np\n",
    "import matplotlib.pyplot as plt\n"
   ]
  },
  {
   "cell_type": "markdown",
   "metadata": {
    "id": "y-4wKs1Sa600"
   },
   "source": [
    "\n",
    "# First: explore the data\n",
    "\n",
    "\n",
    "Review the unstructured csv files and answer the following questions with code that supports your conclusions:\n",
    "\n",
    "* Are there any data quality issues present?\n",
    "* Are there any fields that are challenging to understand?\n",
    "\n",
    "We recommend using SQL or python and data visualization to examine the data."
   ]
  },
  {
   "cell_type": "markdown",
   "metadata": {
    "id": "NAxryHSFa601"
   },
   "source": [
    "## Product table"
   ]
  },
  {
   "cell_type": "code",
   "execution_count": 3,
   "metadata": {
    "id": "2HS7Rh2Ua601",
    "outputId": "a0d8541d-5854-4805-89a6-34318a906ce9"
   },
   "outputs": [
    {
     "data": {
      "text/html": [
       "<div>\n",
       "<style scoped>\n",
       "    .dataframe tbody tr th:only-of-type {\n",
       "        vertical-align: middle;\n",
       "    }\n",
       "\n",
       "    .dataframe tbody tr th {\n",
       "        vertical-align: top;\n",
       "    }\n",
       "\n",
       "    .dataframe thead th {\n",
       "        text-align: right;\n",
       "    }\n",
       "</style>\n",
       "<table border=\"1\" class=\"dataframe\">\n",
       "  <thead>\n",
       "    <tr style=\"text-align: right;\">\n",
       "      <th></th>\n",
       "      <th>CATEGORY_1</th>\n",
       "      <th>CATEGORY_2</th>\n",
       "      <th>CATEGORY_3</th>\n",
       "      <th>CATEGORY_4</th>\n",
       "      <th>MANUFACTURER</th>\n",
       "      <th>BRAND</th>\n",
       "      <th>BARCODE</th>\n",
       "    </tr>\n",
       "  </thead>\n",
       "  <tbody>\n",
       "    <tr>\n",
       "      <th>0</th>\n",
       "      <td>Health &amp; Wellness</td>\n",
       "      <td>Sexual Health</td>\n",
       "      <td>Conductivity Gels &amp; Lotions</td>\n",
       "      <td>NaN</td>\n",
       "      <td>NaN</td>\n",
       "      <td>NaN</td>\n",
       "      <td>796494407820</td>\n",
       "    </tr>\n",
       "    <tr>\n",
       "      <th>1</th>\n",
       "      <td>Snacks</td>\n",
       "      <td>Puffed Snacks</td>\n",
       "      <td>Cheese Curls &amp; Puffs</td>\n",
       "      <td>NaN</td>\n",
       "      <td>NaN</td>\n",
       "      <td>NaN</td>\n",
       "      <td>023278011028</td>\n",
       "    </tr>\n",
       "    <tr>\n",
       "      <th>2</th>\n",
       "      <td>Health &amp; Wellness</td>\n",
       "      <td>Hair Care</td>\n",
       "      <td>Hair Care Accessories</td>\n",
       "      <td>NaN</td>\n",
       "      <td>PLACEHOLDER MANUFACTURER</td>\n",
       "      <td>ELECSOP</td>\n",
       "      <td>461817824225</td>\n",
       "    </tr>\n",
       "    <tr>\n",
       "      <th>3</th>\n",
       "      <td>Health &amp; Wellness</td>\n",
       "      <td>Oral Care</td>\n",
       "      <td>Toothpaste</td>\n",
       "      <td>NaN</td>\n",
       "      <td>COLGATE-PALMOLIVE</td>\n",
       "      <td>COLGATE</td>\n",
       "      <td>035000466815</td>\n",
       "    </tr>\n",
       "    <tr>\n",
       "      <th>4</th>\n",
       "      <td>Health &amp; Wellness</td>\n",
       "      <td>Medicines &amp; Treatments</td>\n",
       "      <td>Essential Oils</td>\n",
       "      <td>NaN</td>\n",
       "      <td>MAPLE HOLISTICS AND HONEYDEW PRODUCTS INTERCHA...</td>\n",
       "      <td>MAPLE HOLISTICS</td>\n",
       "      <td>0806810850459</td>\n",
       "    </tr>\n",
       "  </tbody>\n",
       "</table>\n",
       "</div>"
      ],
      "text/plain": [
       "          CATEGORY_1              CATEGORY_2                   CATEGORY_3  \\\n",
       "0  Health & Wellness           Sexual Health  Conductivity Gels & Lotions   \n",
       "1             Snacks           Puffed Snacks         Cheese Curls & Puffs   \n",
       "2  Health & Wellness               Hair Care        Hair Care Accessories   \n",
       "3  Health & Wellness               Oral Care                   Toothpaste   \n",
       "4  Health & Wellness  Medicines & Treatments               Essential Oils   \n",
       "\n",
       "  CATEGORY_4                                       MANUFACTURER  \\\n",
       "0        NaN                                                NaN   \n",
       "1        NaN                                                NaN   \n",
       "2        NaN                           PLACEHOLDER MANUFACTURER   \n",
       "3        NaN                                  COLGATE-PALMOLIVE   \n",
       "4        NaN  MAPLE HOLISTICS AND HONEYDEW PRODUCTS INTERCHA...   \n",
       "\n",
       "             BRAND        BARCODE  \n",
       "0              NaN   796494407820  \n",
       "1              NaN   023278011028  \n",
       "2          ELECSOP   461817824225  \n",
       "3          COLGATE   035000466815  \n",
       "4  MAPLE HOLISTICS  0806810850459  "
      ]
     },
     "execution_count": 3,
     "metadata": {},
     "output_type": "execute_result"
    }
   ],
   "source": [
    "# Read the data and specify the type of 'BARCODE' is object\n",
    "df_products = pd.read_csv('PRODUCTS_TAKEHOME.csv', dtype={'BARCODE': object})\n",
    "df_products.head()"
   ]
  },
  {
   "cell_type": "code",
   "execution_count": 4,
   "metadata": {
    "id": "IlT6LJSOa602",
    "outputId": "b0191c48-de18-4e27-e10e-328bd3bb84e0"
   },
   "outputs": [
    {
     "name": "stdout",
     "output_type": "stream",
     "text": [
      "(845552, 7)\n"
     ]
    },
    {
     "data": {
      "text/plain": [
       "CATEGORY_1         111\n",
       "CATEGORY_2        1424\n",
       "CATEGORY_3       60566\n",
       "CATEGORY_4      778093\n",
       "MANUFACTURER    226474\n",
       "BRAND           226472\n",
       "BARCODE           4025\n",
       "dtype: int64"
      ]
     },
     "execution_count": 4,
     "metadata": {},
     "output_type": "execute_result"
    }
   ],
   "source": [
    "# Get the null values\n",
    "\n",
    "print(df_products.shape)\n",
    "\n",
    "df_products.isnull().sum()"
   ]
  },
  {
   "cell_type": "code",
   "execution_count": 5,
   "metadata": {
    "id": "J1CsnimCa602",
    "outputId": "d54ab5b7-b08e-445f-b9b0-4904e2ed1c49"
   },
   "outputs": [
    {
     "data": {
      "text/html": [
       "<div>\n",
       "<style scoped>\n",
       "    .dataframe tbody tr th:only-of-type {\n",
       "        vertical-align: middle;\n",
       "    }\n",
       "\n",
       "    .dataframe tbody tr th {\n",
       "        vertical-align: top;\n",
       "    }\n",
       "\n",
       "    .dataframe thead th {\n",
       "        text-align: right;\n",
       "    }\n",
       "</style>\n",
       "<table border=\"1\" class=\"dataframe\">\n",
       "  <thead>\n",
       "    <tr style=\"text-align: right;\">\n",
       "      <th></th>\n",
       "      <th>CATEGORY_1</th>\n",
       "      <th>CATEGORY_2</th>\n",
       "      <th>CATEGORY_3</th>\n",
       "      <th>CATEGORY_4</th>\n",
       "      <th>MANUFACTURER</th>\n",
       "      <th>BRAND</th>\n",
       "      <th>BARCODE</th>\n",
       "    </tr>\n",
       "  </thead>\n",
       "  <tbody>\n",
       "    <tr>\n",
       "      <th>count</th>\n",
       "      <td>845441</td>\n",
       "      <td>844128</td>\n",
       "      <td>784986</td>\n",
       "      <td>67459</td>\n",
       "      <td>619078</td>\n",
       "      <td>619080</td>\n",
       "      <td>841527</td>\n",
       "    </tr>\n",
       "    <tr>\n",
       "      <th>unique</th>\n",
       "      <td>27</td>\n",
       "      <td>121</td>\n",
       "      <td>344</td>\n",
       "      <td>127</td>\n",
       "      <td>4354</td>\n",
       "      <td>8122</td>\n",
       "      <td>841525</td>\n",
       "    </tr>\n",
       "    <tr>\n",
       "      <th>top</th>\n",
       "      <td>Health &amp; Wellness</td>\n",
       "      <td>Candy</td>\n",
       "      <td>Confection Candy</td>\n",
       "      <td>Lip Balms</td>\n",
       "      <td>PLACEHOLDER MANUFACTURER</td>\n",
       "      <td>REM BRAND</td>\n",
       "      <td>017000329260</td>\n",
       "    </tr>\n",
       "    <tr>\n",
       "      <th>freq</th>\n",
       "      <td>512695</td>\n",
       "      <td>121036</td>\n",
       "      <td>56965</td>\n",
       "      <td>9737</td>\n",
       "      <td>86902</td>\n",
       "      <td>20813</td>\n",
       "      <td>2</td>\n",
       "    </tr>\n",
       "  </tbody>\n",
       "</table>\n",
       "</div>"
      ],
      "text/plain": [
       "               CATEGORY_1 CATEGORY_2        CATEGORY_3 CATEGORY_4  \\\n",
       "count              845441     844128            784986      67459   \n",
       "unique                 27        121               344        127   \n",
       "top     Health & Wellness      Candy  Confection Candy  Lip Balms   \n",
       "freq               512695     121036             56965       9737   \n",
       "\n",
       "                    MANUFACTURER      BRAND       BARCODE  \n",
       "count                     619078     619080        841527  \n",
       "unique                      4354       8122        841525  \n",
       "top     PLACEHOLDER MANUFACTURER  REM BRAND  017000329260  \n",
       "freq                       86902      20813             2  "
      ]
     },
     "execution_count": 5,
     "metadata": {},
     "output_type": "execute_result"
    }
   ],
   "source": [
    "df_products.describe()\n"
   ]
  },
  {
   "cell_type": "code",
   "execution_count": 6,
   "metadata": {
    "id": "o6KelHqJa602",
    "outputId": "5334456e-d416-4eae-b565-849c9219f8af"
   },
   "outputs": [
    {
     "data": {
      "text/plain": [
       "841525"
      ]
     },
     "execution_count": 6,
     "metadata": {},
     "output_type": "execute_result"
    }
   ],
   "source": [
    "# Get the unique values of 'BARCODE'\n",
    "df_products['BARCODE'].nunique()\n",
    "\n",
    "#  There are 841525 unique values of 'BARCODE' in the dataset.\n"
   ]
  },
  {
   "cell_type": "code",
   "execution_count": 7,
   "metadata": {
    "id": "QZaqHC0Ha602",
    "outputId": "e92de0b8-4114-4bbb-90cc-1af11d50da53"
   },
   "outputs": [
    {
     "data": {
      "image/png": "[encoded data removed]",
      "text/plain": [
       "<Figure size 432x288 with 1 Axes>"
      ]
     },
     "metadata": {
      "needs_background": "light"
     },
     "output_type": "display_data"
    }
   ],
   "source": [
    "#  Get the distribution of 'CATEGORY_1'\n",
    "df_products['CATEGORY_1'].value_counts().plot(kind='bar')\n",
    "\n",
    "plt.show()\n",
    "\n",
    "# Health & Wellness and Snacks are the domonant categories"
   ]
  },
  {
   "cell_type": "code",
   "execution_count": 8,
   "metadata": {
    "id": "Spw0sm0Ra603",
    "outputId": "2dacdda1-ff51-47c1-c222-f147432265ce"
   },
   "outputs": [
    {
     "data": {
      "text/html": [
       "<div>\n",
       "<style scoped>\n",
       "    .dataframe tbody tr th:only-of-type {\n",
       "        vertical-align: middle;\n",
       "    }\n",
       "\n",
       "    .dataframe tbody tr th {\n",
       "        vertical-align: top;\n",
       "    }\n",
       "\n",
       "    .dataframe thead th {\n",
       "        text-align: right;\n",
       "    }\n",
       "</style>\n",
       "<table border=\"1\" class=\"dataframe\">\n",
       "  <thead>\n",
       "    <tr style=\"text-align: right;\">\n",
       "      <th></th>\n",
       "      <th>CATEGORY_1</th>\n",
       "      <th>CATEGORY_2</th>\n",
       "      <th>CATEGORY_3</th>\n",
       "      <th>CATEGORY_4</th>\n",
       "      <th>MANUFACTURER</th>\n",
       "      <th>BRAND</th>\n",
       "      <th>BARCODE</th>\n",
       "    </tr>\n",
       "  </thead>\n",
       "  <tbody>\n",
       "    <tr>\n",
       "      <th>213340</th>\n",
       "      <td>Health &amp; Wellness</td>\n",
       "      <td>Hair Care</td>\n",
       "      <td>Hair Color</td>\n",
       "      <td>NaN</td>\n",
       "      <td>HENKEL</td>\n",
       "      <td>SCHWARZKOPF</td>\n",
       "      <td>017000329260</td>\n",
       "    </tr>\n",
       "    <tr>\n",
       "      <th>304021</th>\n",
       "      <td>Health &amp; Wellness</td>\n",
       "      <td>Hair Care</td>\n",
       "      <td>Hair Color</td>\n",
       "      <td>NaN</td>\n",
       "      <td>HENKEL</td>\n",
       "      <td>GÖT2B</td>\n",
       "      <td>017000329260</td>\n",
       "    </tr>\n",
       "    <tr>\n",
       "      <th>28421</th>\n",
       "      <td>Health &amp; Wellness</td>\n",
       "      <td>Hair Care</td>\n",
       "      <td>Hair Color</td>\n",
       "      <td>NaN</td>\n",
       "      <td>HENKEL</td>\n",
       "      <td>SCHWARZKOPF</td>\n",
       "      <td>052336919068</td>\n",
       "    </tr>\n",
       "    <tr>\n",
       "      <th>709607</th>\n",
       "      <td>Health &amp; Wellness</td>\n",
       "      <td>Hair Care</td>\n",
       "      <td>Hair Color</td>\n",
       "      <td>NaN</td>\n",
       "      <td>HENKEL</td>\n",
       "      <td>GÖT2B</td>\n",
       "      <td>052336919068</td>\n",
       "    </tr>\n",
       "    <tr>\n",
       "      <th>9</th>\n",
       "      <td>Health &amp; Wellness</td>\n",
       "      <td>NaN</td>\n",
       "      <td>NaN</td>\n",
       "      <td>NaN</td>\n",
       "      <td>CHURCH &amp; DWIGHT</td>\n",
       "      <td>REPHRESH</td>\n",
       "      <td>NaN</td>\n",
       "    </tr>\n",
       "    <tr>\n",
       "      <th>...</th>\n",
       "      <td>...</td>\n",
       "      <td>...</td>\n",
       "      <td>...</td>\n",
       "      <td>...</td>\n",
       "      <td>...</td>\n",
       "      <td>...</td>\n",
       "      <td>...</td>\n",
       "    </tr>\n",
       "    <tr>\n",
       "      <th>845070</th>\n",
       "      <td>Health &amp; Wellness</td>\n",
       "      <td>Medicines &amp; Treatments</td>\n",
       "      <td>NaN</td>\n",
       "      <td>NaN</td>\n",
       "      <td>RECKITT BENCKISER</td>\n",
       "      <td>CEPACOL</td>\n",
       "      <td>NaN</td>\n",
       "    </tr>\n",
       "    <tr>\n",
       "      <th>845187</th>\n",
       "      <td>Health &amp; Wellness</td>\n",
       "      <td>Bath &amp; Body</td>\n",
       "      <td>NaN</td>\n",
       "      <td>NaN</td>\n",
       "      <td>RECKITT BENCKISER</td>\n",
       "      <td>QUEEN V</td>\n",
       "      <td>NaN</td>\n",
       "    </tr>\n",
       "    <tr>\n",
       "      <th>845215</th>\n",
       "      <td>Snacks</td>\n",
       "      <td>NaN</td>\n",
       "      <td>NaN</td>\n",
       "      <td>NaN</td>\n",
       "      <td>PEPSICO</td>\n",
       "      <td>IMAGINE</td>\n",
       "      <td>NaN</td>\n",
       "    </tr>\n",
       "    <tr>\n",
       "      <th>845234</th>\n",
       "      <td>Health &amp; Wellness</td>\n",
       "      <td>Oral Care</td>\n",
       "      <td>NaN</td>\n",
       "      <td>NaN</td>\n",
       "      <td>BOIRON</td>\n",
       "      <td>BOIRON</td>\n",
       "      <td>NaN</td>\n",
       "    </tr>\n",
       "    <tr>\n",
       "      <th>845363</th>\n",
       "      <td>Health &amp; Wellness</td>\n",
       "      <td>Skin Care</td>\n",
       "      <td>Facial Cleansers</td>\n",
       "      <td>NaN</td>\n",
       "      <td>BEIERSDORF, INC.</td>\n",
       "      <td>LA PRAIRIE</td>\n",
       "      <td>NaN</td>\n",
       "    </tr>\n",
       "  </tbody>\n",
       "</table>\n",
       "<p>4029 rows × 7 columns</p>\n",
       "</div>"
      ],
      "text/plain": [
       "               CATEGORY_1              CATEGORY_2        CATEGORY_3  \\\n",
       "213340  Health & Wellness               Hair Care        Hair Color   \n",
       "304021  Health & Wellness               Hair Care        Hair Color   \n",
       "28421   Health & Wellness               Hair Care        Hair Color   \n",
       "709607  Health & Wellness               Hair Care        Hair Color   \n",
       "9       Health & Wellness                     NaN               NaN   \n",
       "...                   ...                     ...               ...   \n",
       "845070  Health & Wellness  Medicines & Treatments               NaN   \n",
       "845187  Health & Wellness             Bath & Body               NaN   \n",
       "845215             Snacks                     NaN               NaN   \n",
       "845234  Health & Wellness               Oral Care               NaN   \n",
       "845363  Health & Wellness               Skin Care  Facial Cleansers   \n",
       "\n",
       "       CATEGORY_4       MANUFACTURER        BRAND       BARCODE  \n",
       "213340        NaN             HENKEL  SCHWARZKOPF  017000329260  \n",
       "304021        NaN             HENKEL        GÖT2B  017000329260  \n",
       "28421         NaN             HENKEL  SCHWARZKOPF  052336919068  \n",
       "709607        NaN             HENKEL        GÖT2B  052336919068  \n",
       "9             NaN    CHURCH & DWIGHT     REPHRESH           NaN  \n",
       "...           ...                ...          ...           ...  \n",
       "845070        NaN  RECKITT BENCKISER      CEPACOL           NaN  \n",
       "845187        NaN  RECKITT BENCKISER      QUEEN V           NaN  \n",
       "845215        NaN            PEPSICO      IMAGINE           NaN  \n",
       "845234        NaN             BOIRON       BOIRON           NaN  \n",
       "845363        NaN   BEIERSDORF, INC.   LA PRAIRIE           NaN  \n",
       "\n",
       "[4029 rows x 7 columns]"
      ]
     },
     "execution_count": 8,
     "metadata": {},
     "output_type": "execute_result"
    }
   ],
   "source": [
    "# Get the duplicate values of non-null 'BARCODE'\n",
    "\n",
    "df_products[df_products['BARCODE'].notnull()].duplicated('BARCODE').sum()\n",
    "# df_products[df_products.duplicated('BARCODE')]\n",
    "\n",
    "# Get the rows where 'BARCODE' is duplicated\n",
    "\n",
    "df_products[df_products.duplicated('BARCODE', keep=False)].sort_values('BARCODE')\n"
   ]
  },
  {
   "cell_type": "markdown",
   "metadata": {
    "id": "eBtia-TGa603"
   },
   "source": [
    "\n",
    "**Product Data Quality Summary:**\n",
    "\n",
    "- **Barcode Integrity**: Notable issues with 4,025 products lacking barcodes out of 845,552 entries. This compromises inventory tracking and sales management, as barcodes are essential for product identification.\n",
    "  \n",
    "- **Barcode Duplicates**: Identified duplicates such as '017000329260' and '052336919068' assigned to different brands ('SCHWARZKOPF' and 'GÖT2B'). Each barcode must be unique to ensure accurate brand association.\n",
    "\n",
    "- **Missing Data Highlights**:\n",
    "  - **CATEGORY_1**: 111 missing entries, critical for basic product classification and analysis.\n",
    "  - **CATEGORY_4**: A significant gap with 778,093 missing entries, indicating a severe lack of data in advanced product categorization.\n",
    "\n",
    "**Action Required**:\n",
    "Immediate correction of barcode duplications and addressing missing entries in CATEGORY_1 and CATEGORY_4 are priorities. Rectifying these issues will improve the reliability of our product database for operational and analytical purposes.\n"
   ]
  },
  {
   "cell_type": "markdown",
   "metadata": {
    "id": "LxtTvua0a603"
   },
   "source": [
    "## Transaction table"
   ]
  },
  {
   "cell_type": "code",
   "execution_count": 9,
   "metadata": {
    "id": "6a-kKLHZa603",
    "outputId": "51b5a0e7-d171-425b-b9e7-3b1caedcfa9d"
   },
   "outputs": [
    {
     "data": {
      "text/html": [
       "<div>\n",
       "<style scoped>\n",
       "    .dataframe tbody tr th:only-of-type {\n",
       "        vertical-align: middle;\n",
       "    }\n",
       "\n",
       "    .dataframe tbody tr th {\n",
       "        vertical-align: top;\n",
       "    }\n",
       "\n",
       "    .dataframe thead th {\n",
       "        text-align: right;\n",
       "    }\n",
       "</style>\n",
       "<table border=\"1\" class=\"dataframe\">\n",
       "  <thead>\n",
       "    <tr style=\"text-align: right;\">\n",
       "      <th></th>\n",
       "      <th>RECEIPT_ID</th>\n",
       "      <th>PURCHASE_DATE</th>\n",
       "      <th>SCAN_DATE</th>\n",
       "      <th>STORE_NAME</th>\n",
       "      <th>USER_ID</th>\n",
       "      <th>BARCODE</th>\n",
       "      <th>FINAL_QUANTITY</th>\n",
       "      <th>FINAL_SALE</th>\n",
       "    </tr>\n",
       "  </thead>\n",
       "  <tbody>\n",
       "    <tr>\n",
       "      <th>0</th>\n",
       "      <td>0000d256-4041-4a3e-adc4-5623fb6e0c99</td>\n",
       "      <td>2024-08-21</td>\n",
       "      <td>2024-08-21 14:19:06.539 Z</td>\n",
       "      <td>WALMART</td>\n",
       "      <td>63b73a7f3d310dceeabd4758</td>\n",
       "      <td>015300014978</td>\n",
       "      <td>1.00</td>\n",
       "      <td></td>\n",
       "    </tr>\n",
       "    <tr>\n",
       "      <th>1</th>\n",
       "      <td>0001455d-7a92-4a7b-a1d2-c747af1c8fd3</td>\n",
       "      <td>2024-07-20</td>\n",
       "      <td>2024-07-20 09:50:24.206 Z</td>\n",
       "      <td>ALDI</td>\n",
       "      <td>62c08877baa38d1a1f6c211a</td>\n",
       "      <td>NaN</td>\n",
       "      <td>zero</td>\n",
       "      <td>1.49</td>\n",
       "    </tr>\n",
       "    <tr>\n",
       "      <th>2</th>\n",
       "      <td>00017e0a-7851-42fb-bfab-0baa96e23586</td>\n",
       "      <td>2024-08-18</td>\n",
       "      <td>2024-08-19 15:38:56.813 Z</td>\n",
       "      <td>WALMART</td>\n",
       "      <td>60842f207ac8b7729e472020</td>\n",
       "      <td>078742229751</td>\n",
       "      <td>1.00</td>\n",
       "      <td></td>\n",
       "    </tr>\n",
       "    <tr>\n",
       "      <th>3</th>\n",
       "      <td>000239aa-3478-453d-801e-66a82e39c8af</td>\n",
       "      <td>2024-06-18</td>\n",
       "      <td>2024-06-19 11:03:37.468 Z</td>\n",
       "      <td>FOOD LION</td>\n",
       "      <td>63fcd7cea4f8442c3386b589</td>\n",
       "      <td>783399746536</td>\n",
       "      <td>zero</td>\n",
       "      <td>3.49</td>\n",
       "    </tr>\n",
       "    <tr>\n",
       "      <th>4</th>\n",
       "      <td>00026b4c-dfe8-49dd-b026-4c2f0fd5c6a1</td>\n",
       "      <td>2024-07-04</td>\n",
       "      <td>2024-07-05 15:56:43.549 Z</td>\n",
       "      <td>RANDALLS</td>\n",
       "      <td>6193231ae9b3d75037b0f928</td>\n",
       "      <td>047900501183</td>\n",
       "      <td>1.00</td>\n",
       "      <td></td>\n",
       "    </tr>\n",
       "  </tbody>\n",
       "</table>\n",
       "</div>"
      ],
      "text/plain": [
       "                             RECEIPT_ID PURCHASE_DATE  \\\n",
       "0  0000d256-4041-4a3e-adc4-5623fb6e0c99    2024-08-21   \n",
       "1  0001455d-7a92-4a7b-a1d2-c747af1c8fd3    2024-07-20   \n",
       "2  00017e0a-7851-42fb-bfab-0baa96e23586    2024-08-18   \n",
       "3  000239aa-3478-453d-801e-66a82e39c8af    2024-06-18   \n",
       "4  00026b4c-dfe8-49dd-b026-4c2f0fd5c6a1    2024-07-04   \n",
       "\n",
       "                   SCAN_DATE STORE_NAME                   USER_ID  \\\n",
       "0  2024-08-21 14:19:06.539 Z    WALMART  63b73a7f3d310dceeabd4758   \n",
       "1  2024-07-20 09:50:24.206 Z       ALDI  62c08877baa38d1a1f6c211a   \n",
       "2  2024-08-19 15:38:56.813 Z    WALMART  60842f207ac8b7729e472020   \n",
       "3  2024-06-19 11:03:37.468 Z  FOOD LION  63fcd7cea4f8442c3386b589   \n",
       "4  2024-07-05 15:56:43.549 Z   RANDALLS  6193231ae9b3d75037b0f928   \n",
       "\n",
       "        BARCODE FINAL_QUANTITY FINAL_SALE  \n",
       "0  015300014978           1.00             \n",
       "1           NaN           zero       1.49  \n",
       "2  078742229751           1.00             \n",
       "3  783399746536           zero       3.49  \n",
       "4  047900501183           1.00             "
      ]
     },
     "execution_count": 9,
     "metadata": {},
     "output_type": "execute_result"
    }
   ],
   "source": [
    "df_txn=pd.read_csv('TRANSACTION_TAKEHOME.csv', dtype={'BARCODE': object})\n",
    "\n",
    "df_txn.head()"
   ]
  },
  {
   "cell_type": "code",
   "execution_count": 10,
   "metadata": {
    "id": "0_dDknEXa603",
    "outputId": "82ed57c0-db15-44ba-d975-21c9e43ab067"
   },
   "outputs": [
    {
     "data": {
      "text/plain": [
       "RECEIPT_ID        object\n",
       "PURCHASE_DATE     object\n",
       "SCAN_DATE         object\n",
       "STORE_NAME        object\n",
       "USER_ID           object\n",
       "BARCODE           object\n",
       "FINAL_QUANTITY    object\n",
       "FINAL_SALE        object\n",
       "dtype: object"
      ]
     },
     "execution_count": 10,
     "metadata": {},
     "output_type": "execute_result"
    }
   ],
   "source": [
    "# Check the datatypes\n",
    "    # of the dataframe\n",
    "\n",
    "df_txn.dtypes"
   ]
  },
  {
   "cell_type": "code",
   "execution_count": 11,
   "metadata": {
    "id": "S74hJ2lRa604"
   },
   "outputs": [],
   "source": [
    "# Convert the date to datetime format\n",
    "\n",
    "df_txn['PURCHASE_DATE'] = pd.to_datetime(df_txn['PURCHASE_DATE'])\n",
    "df_txn['SCAN_DATE'] = pd.to_datetime(df_txn['SCAN_DATE'])\n",
    "\n"
   ]
  },
  {
   "cell_type": "code",
   "execution_count": 12,
   "metadata": {
    "id": "_YkeYVF2a604",
    "outputId": "37d3c4e0-3f51-49d1-f486-5aaa970013f5"
   },
   "outputs": [
    {
     "name": "stdout",
     "output_type": "stream",
     "text": [
      "Preview of FINAL_SALE after conversion:\n",
      "0     NaN\n",
      "1    1.49\n",
      "2     NaN\n",
      "3    3.49\n",
      "4     NaN\n",
      "Name: FINAL_SALE, dtype: float64\n",
      "Preview of FINAL_QUANTITY after conversion:\n",
      "0    1.0\n",
      "1    NaN\n",
      "2    1.0\n",
      "3    NaN\n",
      "4    1.0\n",
      "Name: FINAL_QUANTITY, dtype: float64\n"
     ]
    }
   ],
   "source": [
    "import pandas as pd\n",
    "import numpy as np\n",
    "\n",
    "# Preprocessing 'FINAL_SALE' column:\n",
    "# Replace empty strings with NaN to handle missing values correctly.\n",
    "df_txn['FINAL_SALE'] = df_txn['FINAL_SALE'].replace('', np.nan)\n",
    "\n",
    "# Convert 'FINAL_SALE' to numeric, using 'coerce' to handle any conversion errors gracefully\n",
    "# This will set any non-convertible values to NaN.\n",
    "df_txn['FINAL_SALE'] = pd.to_numeric(df_txn['FINAL_SALE'], errors='coerce')\n",
    "\n",
    "# Display the first few entries to verify the conversion\n",
    "print(\"Preview of FINAL_SALE after conversion:\")\n",
    "print(df_txn['FINAL_SALE'].head())\n",
    "\n",
    "# Preprocessing 'FINAL_QUANTITY' column:\n",
    "# Replace the string 'zero' with NaN to handle these specific entries as missing values.\n",
    "df_txn['FINAL_QUANTITY'] = df_txn['FINAL_QUANTITY'].replace('zero', np.nan)\n",
    "\n",
    "# Convert 'FINAL_QUANTITY' to numeric, similarly using 'coerce' to handle errors.\n",
    "df_txn['FINAL_QUANTITY'] = pd.to_numeric(df_txn['FINAL_QUANTITY'], errors='coerce')\n",
    "\n",
    "# Display the first few entries to verify the conversion\n",
    "print(\"Preview of FINAL_QUANTITY after conversion:\")\n",
    "print(df_txn['FINAL_QUANTITY'].head())\n"
   ]
  },
  {
   "cell_type": "code",
   "execution_count": 13,
   "metadata": {
    "id": "F5Tx8ehba604",
    "outputId": "6da4fe45-b36f-4dea-94c5-ed12a1c43ede"
   },
   "outputs": [
    {
     "data": {
      "text/plain": [
       "RECEIPT_ID            0\n",
       "PURCHASE_DATE         0\n",
       "SCAN_DATE             0\n",
       "STORE_NAME            0\n",
       "USER_ID               0\n",
       "BARCODE            5762\n",
       "FINAL_QUANTITY    12500\n",
       "FINAL_SALE        12500\n",
       "dtype: int64"
      ]
     },
     "execution_count": 13,
     "metadata": {},
     "output_type": "execute_result"
    }
   ],
   "source": [
    "df_txn.isnull().sum()"
   ]
  },
  {
   "cell_type": "code",
   "execution_count": 14,
   "metadata": {
    "id": "Ahq-69yya604",
    "outputId": "5d69c28a-608f-49af-b20d-491b2dad57f9"
   },
   "outputs": [
    {
     "data": {
      "text/plain": [
       "25560"
      ]
     },
     "execution_count": 14,
     "metadata": {},
     "output_type": "execute_result"
    }
   ],
   "source": [
    "# Check the duplicates in the dataframe for receipt id and barcode\n",
    "\n",
    "df_txn.duplicated(subset=['RECEIPT_ID']).sum()\n"
   ]
  },
  {
   "cell_type": "code",
   "execution_count": 15,
   "metadata": {
    "id": "jLdJVeVga604",
    "outputId": "c994ee0b-40cd-48a2-f602-9207661ae7de"
   },
   "outputs": [
    {
     "name": "stderr",
     "output_type": "stream",
     "text": [
      "/var/folders/3k/fz253mr95xq4x2c90kh2b3p00000gn/T/ipykernel_90538/2563430380.py:1: FutureWarning: Treating datetime data as categorical rather than numeric in `.describe` is deprecated and will be removed in a future version of pandas. Specify `datetime_is_numeric=True` to silence this warning and adopt the future behavior now.\n",
      "  df_txn.describe(include='all')\n",
      "/var/folders/3k/fz253mr95xq4x2c90kh2b3p00000gn/T/ipykernel_90538/2563430380.py:1: FutureWarning: Treating datetime data as categorical rather than numeric in `.describe` is deprecated and will be removed in a future version of pandas. Specify `datetime_is_numeric=True` to silence this warning and adopt the future behavior now.\n",
      "  df_txn.describe(include='all')\n"
     ]
    },
    {
     "data": {
      "text/html": [
       "<div>\n",
       "<style scoped>\n",
       "    .dataframe tbody tr th:only-of-type {\n",
       "        vertical-align: middle;\n",
       "    }\n",
       "\n",
       "    .dataframe tbody tr th {\n",
       "        vertical-align: top;\n",
       "    }\n",
       "\n",
       "    .dataframe thead th {\n",
       "        text-align: right;\n",
       "    }\n",
       "</style>\n",
       "<table border=\"1\" class=\"dataframe\">\n",
       "  <thead>\n",
       "    <tr style=\"text-align: right;\">\n",
       "      <th></th>\n",
       "      <th>RECEIPT_ID</th>\n",
       "      <th>PURCHASE_DATE</th>\n",
       "      <th>SCAN_DATE</th>\n",
       "      <th>STORE_NAME</th>\n",
       "      <th>USER_ID</th>\n",
       "      <th>BARCODE</th>\n",
       "      <th>FINAL_QUANTITY</th>\n",
       "      <th>FINAL_SALE</th>\n",
       "    </tr>\n",
       "  </thead>\n",
       "  <tbody>\n",
       "    <tr>\n",
       "      <th>count</th>\n",
       "      <td>50000</td>\n",
       "      <td>50000</td>\n",
       "      <td>50000</td>\n",
       "      <td>50000</td>\n",
       "      <td>50000</td>\n",
       "      <td>44238</td>\n",
       "      <td>37500.000000</td>\n",
       "      <td>37500.000000</td>\n",
       "    </tr>\n",
       "    <tr>\n",
       "      <th>unique</th>\n",
       "      <td>24440</td>\n",
       "      <td>89</td>\n",
       "      <td>24440</td>\n",
       "      <td>954</td>\n",
       "      <td>17694</td>\n",
       "      <td>11028</td>\n",
       "      <td>NaN</td>\n",
       "      <td>NaN</td>\n",
       "    </tr>\n",
       "    <tr>\n",
       "      <th>top</th>\n",
       "      <td>bedac253-2256-461b-96af-267748e6cecf</td>\n",
       "      <td>2024-06-15 00:00:00</td>\n",
       "      <td>2024-09-08 20:00:42.348000+00:00</td>\n",
       "      <td>WALMART</td>\n",
       "      <td>64e62de5ca929250373e6cf5</td>\n",
       "      <td>078742223759</td>\n",
       "      <td>NaN</td>\n",
       "      <td>NaN</td>\n",
       "    </tr>\n",
       "    <tr>\n",
       "      <th>freq</th>\n",
       "      <td>12</td>\n",
       "      <td>774</td>\n",
       "      <td>12</td>\n",
       "      <td>21326</td>\n",
       "      <td>22</td>\n",
       "      <td>182</td>\n",
       "      <td>NaN</td>\n",
       "      <td>NaN</td>\n",
       "    </tr>\n",
       "    <tr>\n",
       "      <th>first</th>\n",
       "      <td>NaN</td>\n",
       "      <td>2024-06-12 00:00:00</td>\n",
       "      <td>2024-06-12 06:36:34.910000+00:00</td>\n",
       "      <td>NaN</td>\n",
       "      <td>NaN</td>\n",
       "      <td>NaN</td>\n",
       "      <td>NaN</td>\n",
       "      <td>NaN</td>\n",
       "    </tr>\n",
       "    <tr>\n",
       "      <th>last</th>\n",
       "      <td>NaN</td>\n",
       "      <td>2024-09-08 00:00:00</td>\n",
       "      <td>2024-09-08 23:07:19.836000+00:00</td>\n",
       "      <td>NaN</td>\n",
       "      <td>NaN</td>\n",
       "      <td>NaN</td>\n",
       "      <td>NaN</td>\n",
       "      <td>NaN</td>\n",
       "    </tr>\n",
       "    <tr>\n",
       "      <th>mean</th>\n",
       "      <td>NaN</td>\n",
       "      <td>NaN</td>\n",
       "      <td>NaN</td>\n",
       "      <td>NaN</td>\n",
       "      <td>NaN</td>\n",
       "      <td>NaN</td>\n",
       "      <td>1.085902</td>\n",
       "      <td>4.576384</td>\n",
       "    </tr>\n",
       "    <tr>\n",
       "      <th>std</th>\n",
       "      <td>NaN</td>\n",
       "      <td>NaN</td>\n",
       "      <td>NaN</td>\n",
       "      <td>NaN</td>\n",
       "      <td>NaN</td>\n",
       "      <td>NaN</td>\n",
       "      <td>2.056250</td>\n",
       "      <td>6.625663</td>\n",
       "    </tr>\n",
       "    <tr>\n",
       "      <th>min</th>\n",
       "      <td>NaN</td>\n",
       "      <td>NaN</td>\n",
       "      <td>NaN</td>\n",
       "      <td>NaN</td>\n",
       "      <td>NaN</td>\n",
       "      <td>NaN</td>\n",
       "      <td>0.010000</td>\n",
       "      <td>0.000000</td>\n",
       "    </tr>\n",
       "    <tr>\n",
       "      <th>25%</th>\n",
       "      <td>NaN</td>\n",
       "      <td>NaN</td>\n",
       "      <td>NaN</td>\n",
       "      <td>NaN</td>\n",
       "      <td>NaN</td>\n",
       "      <td>NaN</td>\n",
       "      <td>1.000000</td>\n",
       "      <td>1.790000</td>\n",
       "    </tr>\n",
       "    <tr>\n",
       "      <th>50%</th>\n",
       "      <td>NaN</td>\n",
       "      <td>NaN</td>\n",
       "      <td>NaN</td>\n",
       "      <td>NaN</td>\n",
       "      <td>NaN</td>\n",
       "      <td>NaN</td>\n",
       "      <td>1.000000</td>\n",
       "      <td>3.000000</td>\n",
       "    </tr>\n",
       "    <tr>\n",
       "      <th>75%</th>\n",
       "      <td>NaN</td>\n",
       "      <td>NaN</td>\n",
       "      <td>NaN</td>\n",
       "      <td>NaN</td>\n",
       "      <td>NaN</td>\n",
       "      <td>NaN</td>\n",
       "      <td>1.000000</td>\n",
       "      <td>5.190000</td>\n",
       "    </tr>\n",
       "    <tr>\n",
       "      <th>max</th>\n",
       "      <td>NaN</td>\n",
       "      <td>NaN</td>\n",
       "      <td>NaN</td>\n",
       "      <td>NaN</td>\n",
       "      <td>NaN</td>\n",
       "      <td>NaN</td>\n",
       "      <td>276.000000</td>\n",
       "      <td>462.820000</td>\n",
       "    </tr>\n",
       "  </tbody>\n",
       "</table>\n",
       "</div>"
      ],
      "text/plain": [
       "                                  RECEIPT_ID        PURCHASE_DATE  \\\n",
       "count                                  50000                50000   \n",
       "unique                                 24440                   89   \n",
       "top     bedac253-2256-461b-96af-267748e6cecf  2024-06-15 00:00:00   \n",
       "freq                                      12                  774   \n",
       "first                                    NaN  2024-06-12 00:00:00   \n",
       "last                                     NaN  2024-09-08 00:00:00   \n",
       "mean                                     NaN                  NaN   \n",
       "std                                      NaN                  NaN   \n",
       "min                                      NaN                  NaN   \n",
       "25%                                      NaN                  NaN   \n",
       "50%                                      NaN                  NaN   \n",
       "75%                                      NaN                  NaN   \n",
       "max                                      NaN                  NaN   \n",
       "\n",
       "                               SCAN_DATE STORE_NAME                   USER_ID  \\\n",
       "count                              50000      50000                     50000   \n",
       "unique                             24440        954                     17694   \n",
       "top     2024-09-08 20:00:42.348000+00:00    WALMART  64e62de5ca929250373e6cf5   \n",
       "freq                                  12      21326                        22   \n",
       "first   2024-06-12 06:36:34.910000+00:00        NaN                       NaN   \n",
       "last    2024-09-08 23:07:19.836000+00:00        NaN                       NaN   \n",
       "mean                                 NaN        NaN                       NaN   \n",
       "std                                  NaN        NaN                       NaN   \n",
       "min                                  NaN        NaN                       NaN   \n",
       "25%                                  NaN        NaN                       NaN   \n",
       "50%                                  NaN        NaN                       NaN   \n",
       "75%                                  NaN        NaN                       NaN   \n",
       "max                                  NaN        NaN                       NaN   \n",
       "\n",
       "             BARCODE  FINAL_QUANTITY    FINAL_SALE  \n",
       "count          44238    37500.000000  37500.000000  \n",
       "unique         11028             NaN           NaN  \n",
       "top     078742223759             NaN           NaN  \n",
       "freq             182             NaN           NaN  \n",
       "first            NaN             NaN           NaN  \n",
       "last             NaN             NaN           NaN  \n",
       "mean             NaN        1.085902      4.576384  \n",
       "std              NaN        2.056250      6.625663  \n",
       "min              NaN        0.010000      0.000000  \n",
       "25%              NaN        1.000000      1.790000  \n",
       "50%              NaN        1.000000      3.000000  \n",
       "75%              NaN        1.000000      5.190000  \n",
       "max              NaN      276.000000    462.820000  "
      ]
     },
     "execution_count": 15,
     "metadata": {},
     "output_type": "execute_result"
    }
   ],
   "source": [
    "df_txn.describe(include='all')"
   ]
  },
  {
   "cell_type": "markdown",
   "metadata": {
    "id": "E5P2J6yMa604"
   },
   "source": [
    "\n",
    "\n",
    "**Transactions Data Quality Summary:**\n",
    "\n",
    "- **Barcode Integrity**: Out of 50,000 transaction records, 5,762 transactions are missing barcodes. This lack of barcode data can lead to challenges in tracking and verifying product sales.\n",
    "\n",
    "- **Column Clarification Needed**: The relationship between `FINAL_QUANTITY` and `FINAL_SALE` columns is unclear. It appears that these columns are mutually exclusive—if one column is populated, the other is null. This arrangement requires further investigation to understand how each is intended to be used in transaction recording.\n",
    "\n",
    "**Action Required**:\n",
    "* Clarification on the usage of `FINAL_QUANTITY` and `FINAL_SALE` is needed to ensure accurate financial and inventory reporting.\n",
    "\n",
    "* Addressing the missing barcode information is crucial for improving transaction data integrity and operational analytics."
   ]
  },
  {
   "cell_type": "markdown",
   "metadata": {
    "id": "TfZF3Wjaa604"
   },
   "source": [
    "## User table"
   ]
  },
  {
   "cell_type": "code",
   "execution_count": 16,
   "metadata": {
    "id": "zNKH85Pta604",
    "outputId": "893c3926-07cb-4e49-9b36-5ded1f705b5f"
   },
   "outputs": [
    {
     "data": {
      "text/html": [
       "<div>\n",
       "<style scoped>\n",
       "    .dataframe tbody tr th:only-of-type {\n",
       "        vertical-align: middle;\n",
       "    }\n",
       "\n",
       "    .dataframe tbody tr th {\n",
       "        vertical-align: top;\n",
       "    }\n",
       "\n",
       "    .dataframe thead th {\n",
       "        text-align: right;\n",
       "    }\n",
       "</style>\n",
       "<table border=\"1\" class=\"dataframe\">\n",
       "  <thead>\n",
       "    <tr style=\"text-align: right;\">\n",
       "      <th></th>\n",
       "      <th>ID</th>\n",
       "      <th>CREATED_DATE</th>\n",
       "      <th>BIRTH_DATE</th>\n",
       "      <th>STATE</th>\n",
       "      <th>LANGUAGE</th>\n",
       "      <th>GENDER</th>\n",
       "    </tr>\n",
       "  </thead>\n",
       "  <tbody>\n",
       "    <tr>\n",
       "      <th>0</th>\n",
       "      <td>5ef3b4f17053ab141787697d</td>\n",
       "      <td>2020-06-24 20:17:54.000 Z</td>\n",
       "      <td>2000-08-11 00:00:00.000 Z</td>\n",
       "      <td>CA</td>\n",
       "      <td>es-419</td>\n",
       "      <td>female</td>\n",
       "    </tr>\n",
       "    <tr>\n",
       "      <th>1</th>\n",
       "      <td>5ff220d383fcfc12622b96bc</td>\n",
       "      <td>2021-01-03 19:53:55.000 Z</td>\n",
       "      <td>2001-09-24 04:00:00.000 Z</td>\n",
       "      <td>PA</td>\n",
       "      <td>en</td>\n",
       "      <td>female</td>\n",
       "    </tr>\n",
       "    <tr>\n",
       "      <th>2</th>\n",
       "      <td>6477950aa55bb77a0e27ee10</td>\n",
       "      <td>2023-05-31 18:42:18.000 Z</td>\n",
       "      <td>1994-10-28 00:00:00.000 Z</td>\n",
       "      <td>FL</td>\n",
       "      <td>es-419</td>\n",
       "      <td>female</td>\n",
       "    </tr>\n",
       "    <tr>\n",
       "      <th>3</th>\n",
       "      <td>658a306e99b40f103b63ccf8</td>\n",
       "      <td>2023-12-26 01:46:22.000 Z</td>\n",
       "      <td>NaN</td>\n",
       "      <td>NC</td>\n",
       "      <td>en</td>\n",
       "      <td>NaN</td>\n",
       "    </tr>\n",
       "    <tr>\n",
       "      <th>4</th>\n",
       "      <td>653cf5d6a225ea102b7ecdc2</td>\n",
       "      <td>2023-10-28 11:51:50.000 Z</td>\n",
       "      <td>1972-03-19 00:00:00.000 Z</td>\n",
       "      <td>PA</td>\n",
       "      <td>en</td>\n",
       "      <td>female</td>\n",
       "    </tr>\n",
       "  </tbody>\n",
       "</table>\n",
       "</div>"
      ],
      "text/plain": [
       "                         ID               CREATED_DATE  \\\n",
       "0  5ef3b4f17053ab141787697d  2020-06-24 20:17:54.000 Z   \n",
       "1  5ff220d383fcfc12622b96bc  2021-01-03 19:53:55.000 Z   \n",
       "2  6477950aa55bb77a0e27ee10  2023-05-31 18:42:18.000 Z   \n",
       "3  658a306e99b40f103b63ccf8  2023-12-26 01:46:22.000 Z   \n",
       "4  653cf5d6a225ea102b7ecdc2  2023-10-28 11:51:50.000 Z   \n",
       "\n",
       "                  BIRTH_DATE STATE LANGUAGE  GENDER  \n",
       "0  2000-08-11 00:00:00.000 Z    CA   es-419  female  \n",
       "1  2001-09-24 04:00:00.000 Z    PA       en  female  \n",
       "2  1994-10-28 00:00:00.000 Z    FL   es-419  female  \n",
       "3                        NaN    NC       en     NaN  \n",
       "4  1972-03-19 00:00:00.000 Z    PA       en  female  "
      ]
     },
     "execution_count": 16,
     "metadata": {},
     "output_type": "execute_result"
    }
   ],
   "source": [
    "df_user=pd.read_csv('USER_TAKEHOME.csv')\n",
    "\n",
    "df_user.head()"
   ]
  },
  {
   "cell_type": "code",
   "execution_count": 17,
   "metadata": {
    "id": "XoEfvBKZa604",
    "outputId": "110d76d5-5320-4947-d469-dad1e68df1a2"
   },
   "outputs": [
    {
     "data": {
      "text/plain": [
       "(100000, 6)"
      ]
     },
     "execution_count": 17,
     "metadata": {},
     "output_type": "execute_result"
    }
   ],
   "source": [
    "df_user.shape"
   ]
  },
  {
   "cell_type": "code",
   "execution_count": 18,
   "metadata": {
    "id": "c0diWbL-a605",
    "outputId": "f638bcd5-5f19-4b4d-c997-6d569932a668"
   },
   "outputs": [
    {
     "data": {
      "text/plain": [
       "ID                  0\n",
       "CREATED_DATE        0\n",
       "BIRTH_DATE       3675\n",
       "STATE            4812\n",
       "LANGUAGE        30508\n",
       "GENDER           5892\n",
       "dtype: int64"
      ]
     },
     "execution_count": 18,
     "metadata": {},
     "output_type": "execute_result"
    }
   ],
   "source": [
    "# Check the null values\n",
    "\n",
    "df_user.isnull().sum()"
   ]
  },
  {
   "cell_type": "code",
   "execution_count": 19,
   "metadata": {
    "id": "qHdB4uJ7a605",
    "outputId": "a841017e-d56e-40be-aa35-a2a1f2b7c97e"
   },
   "outputs": [
    {
     "data": {
      "text/plain": [
       "0"
      ]
     },
     "execution_count": 19,
     "metadata": {},
     "output_type": "execute_result"
    }
   ],
   "source": [
    "# Check the duplicate values\n",
    "df_user.duplicated().sum()"
   ]
  },
  {
   "cell_type": "code",
   "execution_count": 20,
   "metadata": {
    "id": "BIaF7Anga605",
    "outputId": "5b9cba1b-bb21-4636-a0ad-6a2337a472fb"
   },
   "outputs": [
    {
     "data": {
      "text/html": [
       "<div>\n",
       "<style scoped>\n",
       "    .dataframe tbody tr th:only-of-type {\n",
       "        vertical-align: middle;\n",
       "    }\n",
       "\n",
       "    .dataframe tbody tr th {\n",
       "        vertical-align: top;\n",
       "    }\n",
       "\n",
       "    .dataframe thead th {\n",
       "        text-align: right;\n",
       "    }\n",
       "</style>\n",
       "<table border=\"1\" class=\"dataframe\">\n",
       "  <thead>\n",
       "    <tr style=\"text-align: right;\">\n",
       "      <th></th>\n",
       "      <th>ID</th>\n",
       "      <th>CREATED_DATE</th>\n",
       "      <th>BIRTH_DATE</th>\n",
       "      <th>STATE</th>\n",
       "      <th>LANGUAGE</th>\n",
       "      <th>GENDER</th>\n",
       "    </tr>\n",
       "  </thead>\n",
       "  <tbody>\n",
       "    <tr>\n",
       "      <th>count</th>\n",
       "      <td>100000</td>\n",
       "      <td>100000</td>\n",
       "      <td>96325</td>\n",
       "      <td>95188</td>\n",
       "      <td>69492</td>\n",
       "      <td>94108</td>\n",
       "    </tr>\n",
       "    <tr>\n",
       "      <th>unique</th>\n",
       "      <td>100000</td>\n",
       "      <td>99942</td>\n",
       "      <td>54721</td>\n",
       "      <td>52</td>\n",
       "      <td>2</td>\n",
       "      <td>11</td>\n",
       "    </tr>\n",
       "    <tr>\n",
       "      <th>top</th>\n",
       "      <td>5ef3b4f17053ab141787697d</td>\n",
       "      <td>2023-01-12 18:30:15.000 Z</td>\n",
       "      <td>1970-01-01 00:00:00.000 Z</td>\n",
       "      <td>TX</td>\n",
       "      <td>en</td>\n",
       "      <td>female</td>\n",
       "    </tr>\n",
       "    <tr>\n",
       "      <th>freq</th>\n",
       "      <td>1</td>\n",
       "      <td>2</td>\n",
       "      <td>1272</td>\n",
       "      <td>9028</td>\n",
       "      <td>63403</td>\n",
       "      <td>64240</td>\n",
       "    </tr>\n",
       "  </tbody>\n",
       "</table>\n",
       "</div>"
      ],
      "text/plain": [
       "                              ID               CREATED_DATE  \\\n",
       "count                     100000                     100000   \n",
       "unique                    100000                      99942   \n",
       "top     5ef3b4f17053ab141787697d  2023-01-12 18:30:15.000 Z   \n",
       "freq                           1                          2   \n",
       "\n",
       "                       BIRTH_DATE  STATE LANGUAGE  GENDER  \n",
       "count                       96325  95188    69492   94108  \n",
       "unique                      54721     52        2      11  \n",
       "top     1970-01-01 00:00:00.000 Z     TX       en  female  \n",
       "freq                         1272   9028    63403   64240  "
      ]
     },
     "execution_count": 20,
     "metadata": {},
     "output_type": "execute_result"
    }
   ],
   "source": [
    "# Get the summary stats\n",
    "\n",
    "df_user.describe(include='all')"
   ]
  },
  {
   "cell_type": "code",
   "execution_count": 21,
   "metadata": {
    "id": "FEpUPFlXa605",
    "outputId": "bde80e06-384a-45c9-90fb-08f8b299fe9d"
   },
   "outputs": [
    {
     "data": {
      "text/plain": [
       "<AxesSubplot:>"
      ]
     },
     "execution_count": 21,
     "metadata": {},
     "output_type": "execute_result"
    },
    {
     "data": {
      "image/png": "[encoded data removed]",
      "text/plain": [
       "<Figure size 432x288 with 1 Axes>"
      ]
     },
     "metadata": {
      "needs_background": "light"
     },
     "output_type": "display_data"
    }
   ],
   "source": [
    "#  Plot the gender distribution\n",
    "\n",
    "df_user['GENDER'].value_counts().plot(kind='bar')"
   ]
  },
  {
   "cell_type": "code",
   "execution_count": 22,
   "metadata": {
    "id": "nxsR-zqja605",
    "outputId": "e37426f6-f12e-4ba9-c97a-8c7815d94177"
   },
   "outputs": [
    {
     "data": {
      "text/plain": [
       "<AxesSubplot:>"
      ]
     },
     "execution_count": 22,
     "metadata": {},
     "output_type": "execute_result"
    },
    {
     "data": {
      "image/png": "[encoded data removed]",
      "text/plain": [
       "<Figure size 432x288 with 1 Axes>"
      ]
     },
     "metadata": {
      "needs_background": "light"
     },
     "output_type": "display_data"
    }
   ],
   "source": [
    "# Get the languagae distribution\n",
    "\n",
    "df_user['LANGUAGE'].value_counts().plot(kind='bar')\n",
    "# df_user['LANGUAGE'].unique()"
   ]
  },
  {
   "cell_type": "markdown",
   "metadata": {
    "id": "neREFVBGa605"
   },
   "source": [
    "\n",
    "\n",
    "**User Data Quality Summary:**\n",
    "\n",
    "- **Missing Data Concerns:**\n",
    "   - **BIRTH_DATE**: Missing in 3,675 records, crucial for age-related analysis.\n",
    "   - **STATE**: Missing in 4,812 records, important for regional targeting.\n",
    "   - **LANGUAGE**: Absent in 30,508 records, critical for personalized communication.\n",
    "   - **GENDER**: Missing in 5,892 records, affects demographic segmentation.\n",
    "\n",
    "- **Data Integrity:**\n",
    "   - Complete `ID` fields ensure unique identification, but missing demographic data compromises comprehensive user profiling.\n",
    "\n",
    "**Recommendations:**\n",
    "\n",
    "- **Improve Data Collection**: Strengthen data capture at user registration to minimize gaps in birth date, state, language, and gender.\n",
    "   \n",
    "- **Enhance Data Validation**: Introduce stricter validation rules during data entry to improve the accuracy of demographic information.\n",
    "\n"
   ]
  },
  {
   "cell_type": "markdown",
   "metadata": {
    "id": "7AnJkq-Ya605"
   },
   "source": [
    "# Second: provide SQL queries\n",
    "\n",
    "Answer three of the following questions with at least one question coming from the closed-ended and one from the open-ended question set. Each question should be answered using one query."
   ]
  },
  {
   "cell_type": "markdown",
   "metadata": {
    "id": "AYs_BPXDa605"
   },
   "source": [
    "- **Closed-ended questions:**\n",
    "\n",
    "What are the top 5 brands by receipts scanned among users 21 and over?\n",
    "\n",
    "What are the top 5 brands by sales among users that have had their account for at least six months?\n",
    "\n",
    "What is the percentage of sales in the Health & Wellness category by generation?\n",
    "\n",
    "- **Open-ended questions:**\n",
    "\n",
    "for these, make assumptions and clearly state them when answering the question.\n",
    "Who are Fetch’s power users?\n",
    "\n",
    "Which is the leading brand in the Dips & Salsa category?\n",
    "\n",
    "At what percent has Fetch grown year over year?"
   ]
  },
  {
   "cell_type": "code",
   "execution_count": 23,
   "metadata": {
    "id": "rkjRTqPna605"
   },
   "outputs": [],
   "source": [
    "import sqlite3\n",
    "#  Create a connection to the database\n",
    "conn = sqlite3.connect('fetch_takehome_database.db')\n"
   ]
  },
  {
   "cell_type": "code",
   "execution_count": 24,
   "metadata": {
    "id": "EAkcCguVa605",
    "outputId": "80cd469d-e988-4412-f775-bcf8de376bcc"
   },
   "outputs": [
    {
     "data": {
      "text/plain": [
       "100000"
      ]
     },
     "execution_count": 24,
     "metadata": {},
     "output_type": "execute_result"
    }
   ],
   "source": [
    "# Write DataFrames to SQLite Tables\n",
    "\n",
    "df_products.to_sql('products', conn, if_exists='replace', index=False)\n",
    "df_txn.to_sql('transactions', conn, if_exists='replace', index=False)\n",
    "df_user.to_sql('users', conn, if_exists='replace', index=False)\n",
    "\n"
   ]
  },
  {
   "cell_type": "markdown",
   "metadata": {
    "id": "UGVqqBVaa605"
   },
   "source": [
    "### 1. What are the top 5 brands by sales among users that have had their account for at least six months?"
   ]
  },
  {
   "cell_type": "code",
   "execution_count": 25,
   "metadata": {
    "id": "ap2HO3FMa605",
    "outputId": "fa8a0233-9fd2-4c4d-dda5-a6782403d63f"
   },
   "outputs": [
    {
     "data": {
      "text/html": [
       "<div>\n",
       "<style scoped>\n",
       "    .dataframe tbody tr th:only-of-type {\n",
       "        vertical-align: middle;\n",
       "    }\n",
       "\n",
       "    .dataframe tbody tr th {\n",
       "        vertical-align: top;\n",
       "    }\n",
       "\n",
       "    .dataframe thead th {\n",
       "        text-align: right;\n",
       "    }\n",
       "</style>\n",
       "<table border=\"1\" class=\"dataframe\">\n",
       "  <thead>\n",
       "    <tr style=\"text-align: right;\">\n",
       "      <th></th>\n",
       "      <th>BRAND</th>\n",
       "      <th>total_sales</th>\n",
       "    </tr>\n",
       "  </thead>\n",
       "  <tbody>\n",
       "    <tr>\n",
       "      <th>0</th>\n",
       "      <td>CVS</td>\n",
       "      <td>72.00</td>\n",
       "    </tr>\n",
       "    <tr>\n",
       "      <th>1</th>\n",
       "      <td>TRIDENT</td>\n",
       "      <td>46.72</td>\n",
       "    </tr>\n",
       "    <tr>\n",
       "      <th>2</th>\n",
       "      <td>DOVE</td>\n",
       "      <td>42.88</td>\n",
       "    </tr>\n",
       "    <tr>\n",
       "      <th>3</th>\n",
       "      <td>COORS LIGHT</td>\n",
       "      <td>34.96</td>\n",
       "    </tr>\n",
       "    <tr>\n",
       "      <th>4</th>\n",
       "      <td>QUAKER</td>\n",
       "      <td>16.60</td>\n",
       "    </tr>\n",
       "  </tbody>\n",
       "</table>\n",
       "</div>"
      ],
      "text/plain": [
       "         BRAND  total_sales\n",
       "0          CVS        72.00\n",
       "1      TRIDENT        46.72\n",
       "2         DOVE        42.88\n",
       "3  COORS LIGHT        34.96\n",
       "4       QUAKER        16.60"
      ]
     },
     "execution_count": 25,
     "metadata": {},
     "output_type": "execute_result"
    }
   ],
   "source": [
    "# Output: Brand| Total Sales\n",
    "\n",
    "# Process:\n",
    "# Filter transactions from users whose accounts were created more than six months ago.\n",
    "# Group by brand to sum the sales\n",
    "# Sort the results based on the sales --keep the ties?\n",
    "\n",
    "query ='''\n",
    "    SELECT\n",
    "        BRAND,\n",
    "        SUM(FINAL_SALE) AS total_sales\n",
    "    FROM users u\n",
    "    JOIN transactions t\n",
    "        ON u.ID=t.USER_ID\n",
    "    JOIN products p\n",
    "        ON t.BARCODE=p.BARCODE\n",
    "    WHERE date('now', '-6 months') >= u.CREATED_DATE\n",
    "        AND BRAND IS NOT NULL\n",
    "    GROUP BY 1\n",
    "    ORDER BY 2 DESC\n",
    "    LIMIT 5;\n",
    "\n",
    "'''\n",
    "\n",
    "df_top5_brands = pd.read_sql(query, conn)\n",
    "\n",
    "df_top5_brands"
   ]
  },
  {
   "cell_type": "code",
   "execution_count": 26,
   "metadata": {
    "id": "DTIgfVJSa605",
    "outputId": "b7869b20-53f8-4d02-eec2-3ddfa73c744a"
   },
   "outputs": [
    {
     "data": {
      "text/html": [
       "<div>\n",
       "<style scoped>\n",
       "    .dataframe tbody tr th:only-of-type {\n",
       "        vertical-align: middle;\n",
       "    }\n",
       "\n",
       "    .dataframe tbody tr th {\n",
       "        vertical-align: top;\n",
       "    }\n",
       "\n",
       "    .dataframe thead th {\n",
       "        text-align: right;\n",
       "    }\n",
       "</style>\n",
       "<table border=\"1\" class=\"dataframe\">\n",
       "  <thead>\n",
       "    <tr style=\"text-align: right;\">\n",
       "      <th></th>\n",
       "      <th>BRAND</th>\n",
       "      <th>total_sales</th>\n",
       "    </tr>\n",
       "  </thead>\n",
       "  <tbody>\n",
       "    <tr>\n",
       "      <th>0</th>\n",
       "      <td>CVS</td>\n",
       "      <td>72.00</td>\n",
       "    </tr>\n",
       "    <tr>\n",
       "      <th>1</th>\n",
       "      <td>TRIDENT</td>\n",
       "      <td>46.72</td>\n",
       "    </tr>\n",
       "    <tr>\n",
       "      <th>2</th>\n",
       "      <td>DOVE</td>\n",
       "      <td>42.88</td>\n",
       "    </tr>\n",
       "    <tr>\n",
       "      <th>3</th>\n",
       "      <td>COORS LIGHT</td>\n",
       "      <td>34.96</td>\n",
       "    </tr>\n",
       "    <tr>\n",
       "      <th>4</th>\n",
       "      <td>QUAKER</td>\n",
       "      <td>16.60</td>\n",
       "    </tr>\n",
       "  </tbody>\n",
       "</table>\n",
       "</div>"
      ],
      "text/plain": [
       "         BRAND  total_sales\n",
       "0          CVS        72.00\n",
       "1      TRIDENT        46.72\n",
       "2         DOVE        42.88\n",
       "3  COORS LIGHT        34.96\n",
       "4       QUAKER        16.60"
      ]
     },
     "execution_count": 26,
     "metadata": {},
     "output_type": "execute_result"
    }
   ],
   "source": [
    "#  If we want to keep the ties, we can use the below query with window function\n",
    "query ='''\n",
    "    WITH sales AS (\n",
    "        SELECT\n",
    "            BRAND,\n",
    "            SUM(FINAL_SALE) AS total_sales,\n",
    "            RANK() OVER (ORDER BY SUM(FINAL_SALE) DESC) AS brand_rank\n",
    "        FROM users u\n",
    "        JOIN transactions t\n",
    "            ON u.ID=t.USER_ID\n",
    "        JOIN products p\n",
    "            ON t.BARCODE=p.BARCODE\n",
    "        WHERE date('now', '-6 months') >= u.CREATED_DATE\n",
    "            AND BRAND IS NOT NULL\n",
    "        GROUP BY 1\n",
    "    )\n",
    "    SELECT\n",
    "        BRAND,\n",
    "        total_sales\n",
    "    FROM sales\n",
    "    WHERE brand_rank <= 5;\n",
    "\n",
    "'''\n",
    "\n",
    "df_top5_brands = pd.read_sql(query, conn)\n",
    "\n",
    "df_top5_brands\n"
   ]
  },
  {
   "cell_type": "code",
   "execution_count": 27,
   "metadata": {
    "id": "z8DDp1NDa606",
    "outputId": "d832cd5b-0012-4800-f347-b845d91183b6"
   },
   "outputs": [
    {
     "data": {
      "text/plain": [
       "<AxesSubplot:xlabel='BRAND'>"
      ]
     },
     "execution_count": 27,
     "metadata": {},
     "output_type": "execute_result"
    },
    {
     "data": {
      "image/png": "[encoded data removed]",
      "text/plain": [
       "<Figure size 432x288 with 1 Axes>"
      ]
     },
     "metadata": {
      "needs_background": "light"
     },
     "output_type": "display_data"
    }
   ],
   "source": [
    "# Plot the top 5 brands\n",
    "df_top5_brands.plot(kind='bar', x='BRAND', y='total_sales', legend=False)"
   ]
  },
  {
   "cell_type": "markdown",
   "metadata": {
    "id": "PWDMwmgsa606"
   },
   "source": [
    "#### Findings:\n",
    "\n",
    "Among users who have had their accounts for at least six months, the brands that lead in sales are notably diverse, indicating varied consumer preferences and spending behaviors within this group. The top-selling brands, ranked by total sales, are as follows:\n",
    "\n",
    "1. **CVS** - $72.00: Dominates as the top brand, possibly reflecting a strong preference for health and wellness products among established users.\n",
    "\n",
    "2. **TRIDENT** - $46.72: Suggests a significant inclination towards consumable goods, specifically in the snacks and confections category.\n",
    "\n",
    "3. **DOVE** - $42.88: This ranking highlights the importance of personal care products, underscoring Dove's strong market position in this segment.\n",
    "\n",
    "4. **COORS LIGHT** - $34.96: Indicates a steady demand for alcoholic beverages, particularly beer, within our long-term user base.\n",
    "\n",
    "5. **QUAKER** - $16.60: Represents consumer goods, specifically in the healthy foods and breakfast cereals category.\n",
    "\n",
    "These findings provide valuable insights into the product preferences of our more seasoned users and can guide targeted marketing strategies and inventory decisions to better cater to the needs of this loyal customer segment."
   ]
  },
  {
   "cell_type": "markdown",
   "metadata": {
    "id": "S1-kU_vQa606"
   },
   "source": [
    "### 2. What is the percentage of sales in the Health & Wellness category by generation?"
   ]
  },
  {
   "cell_type": "code",
   "execution_count": 28,
   "metadata": {
    "id": "11BHXUlya606",
    "outputId": "5163d4b1-ef1b-4bfc-e580-8403d7ec425e"
   },
   "outputs": [
    {
     "data": {
      "text/html": [
       "<div>\n",
       "<style scoped>\n",
       "    .dataframe tbody tr th:only-of-type {\n",
       "        vertical-align: middle;\n",
       "    }\n",
       "\n",
       "    .dataframe tbody tr th {\n",
       "        vertical-align: top;\n",
       "    }\n",
       "\n",
       "    .dataframe thead th {\n",
       "        text-align: right;\n",
       "    }\n",
       "</style>\n",
       "<table border=\"1\" class=\"dataframe\">\n",
       "  <thead>\n",
       "    <tr style=\"text-align: right;\">\n",
       "      <th></th>\n",
       "      <th>generation</th>\n",
       "      <th>pct_sales</th>\n",
       "    </tr>\n",
       "  </thead>\n",
       "  <tbody>\n",
       "    <tr>\n",
       "      <th>0</th>\n",
       "      <td>Millennials (Gen Y)</td>\n",
       "      <td>39.96</td>\n",
       "    </tr>\n",
       "    <tr>\n",
       "      <th>1</th>\n",
       "      <td>Baby Boomers</td>\n",
       "      <td>39.47</td>\n",
       "    </tr>\n",
       "    <tr>\n",
       "      <th>2</th>\n",
       "      <td>Generation X</td>\n",
       "      <td>29.87</td>\n",
       "    </tr>\n",
       "    <tr>\n",
       "      <th>3</th>\n",
       "      <td>Silent Generation</td>\n",
       "      <td>0.00</td>\n",
       "    </tr>\n",
       "    <tr>\n",
       "      <th>4</th>\n",
       "      <td>Generation Z</td>\n",
       "      <td>0.00</td>\n",
       "    </tr>\n",
       "  </tbody>\n",
       "</table>\n",
       "</div>"
      ],
      "text/plain": [
       "            generation  pct_sales\n",
       "0  Millennials (Gen Y)      39.96\n",
       "1         Baby Boomers      39.47\n",
       "2         Generation X      29.87\n",
       "3    Silent Generation       0.00\n",
       "4         Generation Z       0.00"
      ]
     },
     "execution_count": 28,
     "metadata": {},
     "output_type": "execute_result"
    }
   ],
   "source": [
    "#  Output: generation| pct_sales_in_health_wellness\n",
    "\n",
    "# Process:\n",
    "# Categorize Users by Generation: Using birth dates to classify users into generational segments.\n",
    "# Calculate Health & Wellness Sales Percentage: \n",
    "#   For each generational category, # ttl sales in Health & Wellness / ttl sales\n",
    "# Sort the results based on the percentage of sales in Health & Wellness.\n",
    "\n",
    "\n",
    "\n",
    "query ='''\n",
    "WITH sales AS (\n",
    "    SELECT\n",
    "        FINAL_SALE,\n",
    "        CATEGORY_1,\n",
    "    CASE\n",
    "        WHEN birth_date >= '1928-01-01' AND birth_date <= '1945-12-31' THEN 'Silent Generation'\n",
    "        WHEN birth_date >= '1946-01-01' AND birth_date <= '1964-12-31' THEN 'Baby Boomers'\n",
    "        WHEN birth_date >= '1965-01-01' AND birth_date <= '1980-12-31' THEN 'Generation X'\n",
    "        WHEN birth_date >= '1981-01-01' AND birth_date <= '1996-12-31' THEN 'Millennials (Gen Y)'\n",
    "        WHEN birth_date >= '1997-01-01' AND birth_date <= '2010-12-31' THEN 'Generation Z'\n",
    "        WHEN birth_date >= '2011-01-01' AND birth_date <= '2024-12-31' THEN 'Generation Alpha'\n",
    "        ELSE 'Other'\n",
    "    END AS generation\n",
    "    FROM users u\n",
    "    JOIN transactions t\n",
    "    ON u.ID=t.USER_ID\n",
    "    JOIN products p\n",
    "    ON t.BARCODE=p.BARCODE\n",
    "    )\n",
    "\n",
    "SELECT\n",
    "    generation,\n",
    "    ROUND((SUM(CASE WHEN CATEGORY_1='Health & Wellness' THEN FINAL_SALE ELSE 0 END)/SUM(FINAL_SALE))*100,2) AS pct_sales\n",
    "from sales\n",
    "GROUP BY 1\n",
    "ORDER BY 2 DESC;\n",
    "\n",
    "\n",
    "\n",
    "'''\n",
    "\n",
    "health_sales_pct_by_generation = pd.read_sql(query, conn)\n",
    "\n",
    "health_sales_pct_by_generation\n"
   ]
  },
  {
   "cell_type": "code",
   "execution_count": 29,
   "metadata": {
    "id": "FSkM-vOea609",
    "outputId": "9aabe6e8-4d6c-4b14-bfd2-f6e36c142029"
   },
   "outputs": [
    {
     "data": {
      "text/plain": [
       "Text(0, 0.5, 'Percentage of Sales in Health & Wellness Category')"
      ]
     },
     "execution_count": 29,
     "metadata": {},
     "output_type": "execute_result"
    },
    {
     "data": {
      "image/png": "[encoded data removed]",
      "text/plain": [
       "<Figure size 432x288 with 1 Axes>"
      ]
     },
     "metadata": {
      "needs_background": "light"
     },
     "output_type": "display_data"
    }
   ],
   "source": [
    "# Plot the percentage of sales in Health & Wellness category by generation\n",
    "health_sales_pct_by_generation.plot(kind='line', x='generation', y='pct_sales', legend=False, marker='o')\n",
    "#  Change the labels to make it more readable\n",
    "plt.xticks(rotation=45)\n",
    "plt.ylabel('Percentage of Sales in Health & Wellness Category')\n",
    "\n"
   ]
  },
  {
   "cell_type": "markdown",
   "metadata": {
    "id": "VNVDr882a609"
   },
   "source": [
    "\n",
    "\n",
    "#### Findings:\n",
    "\n",
    "- **Millennials (Gen Y)** and **Baby Boomers**: Lead in health and wellness purchases, each contributing around 40% to sales in this category. Their spending habits reflect a significant focus on maintaining and managing health, likely driven by Millennials' rising health awareness and Baby Boomers' needs to address age-related conditions.\n",
    "\n",
    "- **Generation X**: Contributes 29.87% of the health and wellness sales, influenced by mid-life health needs and caregiving responsibilities for older parents.\n",
    "\n",
    "- **Silent Generation and Generation Z**: Both show minimal engagement in the health and wellness category, with no significant sales recorded. This could be due to Gen Z's younger demographics and lesser health concerns, and the Silent Generation’s possible limited access or different health priorities.\n",
    "\n",
    "#### Conclusion:\n",
    "A clear generational gap in health and wellness spending highlights the market's concentration around Millennials and Baby Boomers. These groups should be primary targets for health-focused marketing initiatives, given their substantial contribution to sector sales."
   ]
  },
  {
   "cell_type": "markdown",
   "metadata": {
    "id": "Ba26JWNfa609"
   },
   "source": [
    "### 3. Who are Fetch's power users?\n"
   ]
  },
  {
   "cell_type": "markdown",
   "metadata": {
    "id": "BzyYoCD3a60-"
   },
   "source": [
    "\n",
    "\n",
    "#### Assumptions for Identifying 'Power Users':\n",
    "'Power users' on Fetch are defined using a tailored RFM model and the 80/20 rule (Pareto Principle). This approach helps identify the most engaged and valuable customers by examining key aspects of their purchase behavior:\n",
    "\n",
    "1. **Recency (Recency of Purchase)**:\n",
    "   - **Last Order Date**: Indicates the most recent purchase, with more recent dates suggesting higher engagement and predicting ongoing activity.\n",
    "\n",
    "2. **Frequency (Number of Transactions)**:\n",
    "   - **Number of Orders**: Reflects the total transactions each user has made, with higher numbers indicating consistent engagement and loyalty.\n",
    "\n",
    "3. **Monetary (Overall Spend)**:\n",
    "   - **Total Spent**: The total monetary value each user has contributed to the platform, assessing their financial impact.\n",
    "   - **Average Order Value**: Averages the spending per transaction, with higher values suggesting a preference for premium products.\n",
    "\n",
    "The 80/20 rule focuses on the top 20% of customers who typically generate 80% of total revenue, allowing us to target our most profitable and active users efficiently."
   ]
  },
  {
   "cell_type": "code",
   "execution_count": 32,
   "metadata": {
    "id": "q7CRLY7ta60-",
    "outputId": "437421ff-86a2-4750-aeaa-c7ae27dc8ee0"
   },
   "outputs": [
    {
     "data": {
      "text/html": [
       "<div>\n",
       "<style scoped>\n",
       "    .dataframe tbody tr th:only-of-type {\n",
       "        vertical-align: middle;\n",
       "    }\n",
       "\n",
       "    .dataframe tbody tr th {\n",
       "        vertical-align: top;\n",
       "    }\n",
       "\n",
       "    .dataframe thead th {\n",
       "        text-align: right;\n",
       "    }\n",
       "</style>\n",
       "<table border=\"1\" class=\"dataframe\">\n",
       "  <thead>\n",
       "    <tr style=\"text-align: right;\">\n",
       "      <th></th>\n",
       "      <th>UserID</th>\n",
       "      <th>Generation</th>\n",
       "      <th>NumberOfOrders</th>\n",
       "      <th>AverageOrderValue</th>\n",
       "      <th>TotalSpent</th>\n",
       "      <th>LastOrderDate</th>\n",
       "    </tr>\n",
       "  </thead>\n",
       "  <tbody>\n",
       "    <tr>\n",
       "      <th>0</th>\n",
       "      <td>643059f0838dd2651fb27f50</td>\n",
       "      <td>Baby Boomers</td>\n",
       "      <td>2</td>\n",
       "      <td>36.000000</td>\n",
       "      <td>72.00</td>\n",
       "      <td>2024-08-17 00:00:00</td>\n",
       "    </tr>\n",
       "    <tr>\n",
       "      <th>1</th>\n",
       "      <td>62ffec490d9dbaff18c0a999</td>\n",
       "      <td>Baby Boomers</td>\n",
       "      <td>4</td>\n",
       "      <td>11.680000</td>\n",
       "      <td>46.72</td>\n",
       "      <td>2024-08-23 00:00:00</td>\n",
       "    </tr>\n",
       "    <tr>\n",
       "      <th>2</th>\n",
       "      <td>5d191765c8b1ba28e74e8463</td>\n",
       "      <td>Baby Boomers</td>\n",
       "      <td>2</td>\n",
       "      <td>17.480000</td>\n",
       "      <td>34.96</td>\n",
       "      <td>2024-06-15 00:00:00</td>\n",
       "    </tr>\n",
       "    <tr>\n",
       "      <th>3</th>\n",
       "      <td>64dd9170516348066e7c4006</td>\n",
       "      <td>Millennials (Gen Y)</td>\n",
       "      <td>2</td>\n",
       "      <td>11.970000</td>\n",
       "      <td>23.94</td>\n",
       "      <td>2024-08-06 00:00:00</td>\n",
       "    </tr>\n",
       "    <tr>\n",
       "      <th>4</th>\n",
       "      <td>6661ed1e7c0469953bfc76c4</td>\n",
       "      <td>Millennials (Gen Y)</td>\n",
       "      <td>4</td>\n",
       "      <td>4.650000</td>\n",
       "      <td>18.60</td>\n",
       "      <td>2024-07-23 00:00:00</td>\n",
       "    </tr>\n",
       "    <tr>\n",
       "      <th>5</th>\n",
       "      <td>5b441360be53340f289b0795</td>\n",
       "      <td>Millennials (Gen Y)</td>\n",
       "      <td>4</td>\n",
       "      <td>4.580000</td>\n",
       "      <td>18.32</td>\n",
       "      <td>2024-07-22 00:00:00</td>\n",
       "    </tr>\n",
       "    <tr>\n",
       "      <th>6</th>\n",
       "      <td>5fd4fb485f410d44bae3a776</td>\n",
       "      <td>Generation X</td>\n",
       "      <td>2</td>\n",
       "      <td>7.290000</td>\n",
       "      <td>14.58</td>\n",
       "      <td>2024-08-30 00:00:00</td>\n",
       "    </tr>\n",
       "    <tr>\n",
       "      <th>7</th>\n",
       "      <td>6615dab878ee6750bbc350ea</td>\n",
       "      <td>Millennials (Gen Y)</td>\n",
       "      <td>2</td>\n",
       "      <td>6.980000</td>\n",
       "      <td>13.96</td>\n",
       "      <td>2024-08-25 00:00:00</td>\n",
       "    </tr>\n",
       "    <tr>\n",
       "      <th>8</th>\n",
       "      <td>6528a0a388a3a884364d94dc</td>\n",
       "      <td>Millennials (Gen Y)</td>\n",
       "      <td>6</td>\n",
       "      <td>2.083333</td>\n",
       "      <td>12.50</td>\n",
       "      <td>2024-08-29 00:00:00</td>\n",
       "    </tr>\n",
       "    <tr>\n",
       "      <th>9</th>\n",
       "      <td>5f9414c65896841696c17359</td>\n",
       "      <td>Generation X</td>\n",
       "      <td>2</td>\n",
       "      <td>5.985000</td>\n",
       "      <td>11.97</td>\n",
       "      <td>2024-08-14 00:00:00</td>\n",
       "    </tr>\n",
       "    <tr>\n",
       "      <th>10</th>\n",
       "      <td>646bdaa67a342372c857b958</td>\n",
       "      <td>Millennials (Gen Y)</td>\n",
       "      <td>4</td>\n",
       "      <td>2.987500</td>\n",
       "      <td>11.95</td>\n",
       "      <td>2024-08-19 00:00:00</td>\n",
       "    </tr>\n",
       "    <tr>\n",
       "      <th>11</th>\n",
       "      <td>632fc9dc0c625b72ae991f83</td>\n",
       "      <td>Generation X</td>\n",
       "      <td>2</td>\n",
       "      <td>5.895000</td>\n",
       "      <td>11.79</td>\n",
       "      <td>2024-08-31 00:00:00</td>\n",
       "    </tr>\n",
       "  </tbody>\n",
       "</table>\n",
       "</div>"
      ],
      "text/plain": [
       "                      UserID           Generation  NumberOfOrders  \\\n",
       "0   643059f0838dd2651fb27f50         Baby Boomers               2   \n",
       "1   62ffec490d9dbaff18c0a999         Baby Boomers               4   \n",
       "2   5d191765c8b1ba28e74e8463         Baby Boomers               2   \n",
       "3   64dd9170516348066e7c4006  Millennials (Gen Y)               2   \n",
       "4   6661ed1e7c0469953bfc76c4  Millennials (Gen Y)               4   \n",
       "5   5b441360be53340f289b0795  Millennials (Gen Y)               4   \n",
       "6   5fd4fb485f410d44bae3a776         Generation X               2   \n",
       "7   6615dab878ee6750bbc350ea  Millennials (Gen Y)               2   \n",
       "8   6528a0a388a3a884364d94dc  Millennials (Gen Y)               6   \n",
       "9   5f9414c65896841696c17359         Generation X               2   \n",
       "10  646bdaa67a342372c857b958  Millennials (Gen Y)               4   \n",
       "11  632fc9dc0c625b72ae991f83         Generation X               2   \n",
       "\n",
       "    AverageOrderValue  TotalSpent        LastOrderDate  \n",
       "0           36.000000       72.00  2024-08-17 00:00:00  \n",
       "1           11.680000       46.72  2024-08-23 00:00:00  \n",
       "2           17.480000       34.96  2024-06-15 00:00:00  \n",
       "3           11.970000       23.94  2024-08-06 00:00:00  \n",
       "4            4.650000       18.60  2024-07-23 00:00:00  \n",
       "5            4.580000       18.32  2024-07-22 00:00:00  \n",
       "6            7.290000       14.58  2024-08-30 00:00:00  \n",
       "7            6.980000       13.96  2024-08-25 00:00:00  \n",
       "8            2.083333       12.50  2024-08-29 00:00:00  \n",
       "9            5.985000       11.97  2024-08-14 00:00:00  \n",
       "10           2.987500       11.95  2024-08-19 00:00:00  \n",
       "11           5.895000       11.79  2024-08-31 00:00:00  "
      ]
     },
     "execution_count": 32,
     "metadata": {},
     "output_type": "execute_result"
    }
   ],
   "source": [
    "# Output: UserID| Generation| NumberOfOrders| AverageOrderValue| TotalSpent| LastOrderDate\n",
    "\n",
    "# Purpose: Identify Power Users who fall into the top 20% based on total order value, number of orders, and recency of last order.\n",
    "# Process:\n",
    "# 1. Group by user and calculate total order value, number of orders, and the date of the last order.\n",
    "# 2. Rank users using the NTILE() window function to segment them into quintiles.\n",
    "# 3. Select users in the top quintile (top 20%) based on their overall engagement and spending.\n",
    "\n",
    "query='''\n",
    "\n",
    "WITH RANKED_USERS AS (\n",
    "SELECT\n",
    "    u.ID AS UserID,\n",
    "    u.BIRTH_DATE,\n",
    "    COUNT(t.receipt_id) AS NumberOfOrders,\n",
    "    SUM(t.FINAL_SALE) / COUNT(t.receipt_id) AS AverageOrderValue,\n",
    "    SUM(t.FINAL_SALE) AS TotalSpent,\n",
    "    MAX(t.PURCHASE_DATE) AS LastOrderDate,\n",
    "    NTILE(5) OVER (ORDER BY SUM(t.FINAL_SALE) DESC, COUNT(t.receipt_id) DESC, MAX(t.PURCHASE_DATE) DESC) AS PercentileRank\n",
    "FROM\n",
    "    users u\n",
    "JOIN\n",
    "    transactions t ON u.ID = t.USER_ID\n",
    "JOIN\n",
    "    products p ON t.BARCODE = p.BARCODE\n",
    "GROUP BY\n",
    "    u.ID, u.BIRTH_DATE\n",
    "ORDER BY\n",
    "    TotalSpent DESC, NumberOfOrders DESC, LastOrderDate DESC\n",
    ")\n",
    "\n",
    "SELECT\n",
    "    UserID,\n",
    "    (CASE\n",
    "        WHEN birth_date >= '1928-01-01' AND birth_date <= '1945-12-31' THEN 'Silent Generation'\n",
    "        WHEN birth_date >= '1946-01-01' AND birth_date <= '1964-12-31' THEN 'Baby Boomers'\n",
    "        WHEN birth_date >= '1965-01-01' AND birth_date <= '1980-12-31' THEN 'Generation X'\n",
    "        WHEN birth_date >= '1981-01-01' AND birth_date <= '1996-12-31' THEN 'Millennials (Gen Y)'\n",
    "        WHEN birth_date >= '1997-01-01' AND birth_date <= '2010-12-31' THEN 'Generation Z'\n",
    "        WHEN birth_date >= '2011-01-01' AND birth_date <= '2024-12-31' THEN 'Generation Alpha'\n",
    "        ELSE 'Other'\n",
    "    END) AS Generation,\n",
    "    NumberOfOrders,\n",
    "    AverageOrderValue,\n",
    "    TotalSpent,\n",
    "    LastOrderDate\n",
    "FROM RANKED_USERS\n",
    "WHERE PercentileRank = 1;\n",
    "    '''\n",
    "\n",
    "power_users = pd.read_sql(query, conn)\n",
    "\n",
    "power_users\n"
   ]
  },
  {
   "cell_type": "code",
   "execution_count": 33,
   "metadata": {
    "id": "h7OnaZDaa60-"
   },
   "outputs": [],
   "source": [
    "#  save the results to a csv file\n",
    "\n",
    "power_users.to_csv('power_users.csv', index=False)"
   ]
  },
  {
   "cell_type": "markdown",
   "metadata": {
    "id": "eW8WiFlaa60-"
   },
   "source": [
    "Deep dive analysis in power users"
   ]
  },
  {
   "cell_type": "code",
   "execution_count": 34,
   "metadata": {
    "id": "IicHiKrKa60-",
    "outputId": "c712fa29-95c6-4643-974f-80c393425f37"
   },
   "outputs": [
    {
     "data": {
      "image/png": "[encoded data removed]",
      "text/plain": [
       "<Figure size 432x288 with 1 Axes>"
      ]
     },
     "metadata": {
      "needs_background": "light"
     },
     "output_type": "display_data"
    }
   ],
   "source": [
    "# Show the distribution of power users by generation using a bar chart\n",
    "\n",
    "power_users['Generation'].value_counts().plot(kind='bar',ylabel='Number of Power Users', xlabel='Generation', title='Distribution of Power Users by Generation')\n",
    "\n",
    "plt.xticks(rotation=45)  # Optional: Rotate labels for better readability\n",
    "plt.show()"
   ]
  },
  {
   "cell_type": "markdown",
   "metadata": {
    "id": "H7Qfdpxua60-"
   },
   "source": [
    "#### Findings:\n",
    "\n",
    "The analysis shows that the majority of power users belong to the Millennial generation (1981-1996), followed by Baby Boomers (1946-1964) and Gen X (1965-1980). Interestingly, Gen Z (1997 and later) is absent from this dataset.\n",
    "\n",
    "This suggests that the power users are primarily middle-aged adults rather than younger Gen Z users. If we’re looking to attract younger demographics, it might be worth investigating what barriers exist for their engagement."
   ]
  },
  {
   "cell_type": "markdown",
   "metadata": {
    "id": "zflDjV3Ha60-"
   },
   "source": [
    "# Third: communicate with stakeholders\n",
    "\n",
    "Construct an email or slack message that is understandable to a product or business leader who is not familiar with your day-to-day work. Summarize the results of your investigation. Include:\n",
    "\n",
    "Key data quality issues and outstanding questions about the data\n",
    "\n",
    "One interesting trend in the data\n",
    "    Use a finding from part 2 or come up with a new insight\n",
    "\n",
    "Request for action: explain what additional help, info, etc. you need to make sense of the data and resolve any outstanding issues\n"
   ]
  },
  {
   "cell_type": "markdown",
   "metadata": {
    "id": "HrDuKjlYa60-"
   },
   "source": [
    "### Message Content\n",
    "\n",
    "**Subject: Insights from Recent Data Analysis**\n",
    "\n",
    "Hi [Stakeholder's Name],\n",
    "\n",
    "I hope this message finds you well. I've wrapped up our latest data analysis and here are some critical findings and areas for improvement:\n",
    "\n",
    "1. **Data Quality Issues**\n",
    "   - **Products Table:** We have 4,025 missing barcodes out of 845,552 entries and duplicate barcodes for different brands, which complicates inventory tracking.\n",
    "   - **Transactions Table:** There's a puzzling exclusivity between `FINAL_QUANTITY` and `FINAL_SALE` columns where they don't align as expected. This needs further investigation for clarity.\n",
    "\n",
    "2. **Trend Analysis**\n",
    "   - We identified our top 20% of users—primarily Millennials, Gen X, and Baby Boomers—who are actively purchasing health and wellness products, with CVS emerging as a preferred brand. However, Gen Z's engagement is notably low, suggesting a potential area for further exploration.\n",
    "\n",
    "3. **Recommended Actions**\n",
    "   - **Improve Barcode Integrity:** We need to refine our product entry processes to fix issues with barcode accuracy and uniqueness.\n",
    "   - **Enhance User Demographics Data:** Gathering more detailed demographic information could help us better understand purchase patterns and refine our marketing efforts.\n",
    "\n",
    "I'd like to discuss these findings and consider potential strategies for addressing these issues. Your insights would be invaluable as we move forward.\n",
    "\n",
    "Thank you for your time.\n",
    "\n",
    "Best regards,\n",
    "\n",
    "Chen"
   ]
  },
  {
   "cell_type": "code",
   "execution_count": null,
   "metadata": {
    "id": "YXo18eYZbn76"
   },
   "outputs": [],
   "source": []
  }
 ],
 "metadata": {
  "colab": {
   "provenance": [],
   "toc_visible": true
  },
  "kernelspec": {
   "display_name": "base",
   "language": "python",
   "name": "python3"
  },
  "language_info": {
   "codemirror_mode": {
    "name": "ipython",
    "version": 3
   },
   "file_extension": ".py",
   "mimetype": "text/x-python",
   "name": "python",
   "nbconvert_exporter": "python",
   "pygments_lexer": "ipython3",
   "version": "3.8.8"
  }
 },
 "nbformat": 4,
 "nbformat_minor": 0
}
